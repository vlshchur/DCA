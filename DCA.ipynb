{
 "cells": [
  {
   "cell_type": "code",
   "execution_count": 193,
   "id": "0676d213",
   "metadata": {},
   "outputs": [
    {
     "name": "stdout",
     "output_type": "stream",
     "text": [
      "[ 1 32 43 28]\n"
     ]
    },
    {
     "data": {
      "text/plain": [
       "[<matplotlib.lines.Line2D at 0x7faa59c1f220>]"
      ]
     },
     "execution_count": 193,
     "metadata": {},
     "output_type": "execute_result"
    },
    {
     "data": {
      "image/png": "[encoded data removed]",
      "text/plain": [
       "<Figure size 432x288 with 1 Axes>"
      ]
     },
     "metadata": {
      "needs_background": "light"
     },
     "output_type": "display_data"
    }
   ],
   "source": [
    "import numpy as np\n",
    "import numpy.random as rnd\n",
    "import matplotlib.pyplot as plt\n",
    "\n",
    "\n",
    "ALPHABET_SIZE = 2\n",
    "DELTA = 0.9\n",
    "\n",
    "\n",
    "def ReadFreq(fn):\n",
    "    return data\n",
    "\n",
    "def ReadSeqs(fn):\n",
    "    return data\n",
    "\n",
    "freq = np.array([\n",
    "    [\n",
    "    #0,0\n",
    "    [ [0., 0.], [0., 0.] ],\n",
    "    #0,1\n",
    "    [ [0.1, 0.2], [0.3, 0.4] ],\n",
    "    #0,2\n",
    "    [ [0.05, 0.15], [0.25, 0.55] ]\n",
    "    ],\n",
    "    [\n",
    "    #1,0\n",
    "    [ [0.1, 0.3], [0.2, 0.4] ],\n",
    "    #1,1\n",
    "    [ [0., 0.], [0., 0.] ],\n",
    "    #1,2\n",
    "    [ [0.1, 0.3], [0.2, 0.4] ]\n",
    "    ],\n",
    "    [\n",
    "    #2,0\n",
    "    [ [0.05, 0.25], [0.15, 0.55] ],\n",
    "    #2,1\n",
    "    [ [0.1, 0.2], [0.3, 0.4] ],\n",
    "    #2,2\n",
    "    [ [0., 0.], [0., 0.] ]\n",
    "    ]\n",
    "\n",
    "])\n",
    "seqs = np.array([ [0, 1, 0] ])\n",
    "\n",
    "class DCA:\n",
    "    def __init__(self, freq, seqs, verbose = False, keep_states = False):\n",
    "        self.PP = freq\n",
    "        self.s = seqs\n",
    "        self.L = len(seqs[0])\n",
    "        self.A = ALPHABET_SIZE\n",
    "        #self.P = np.zeros((selfL, A, A))\n",
    "        self.P = self.PP.sum(axis=1)\n",
    "        \n",
    "        self.initSeq = 0\n",
    "        \n",
    "        self.currentState = np.copy(self.s[ self.initSeq ])\n",
    "        self.currentDist = 0\n",
    "        self.H = np.ones(self.L+1, dtype=int)\n",
    "        \n",
    "        self.verbose = verbose\n",
    "        self.keep_states = keep_states\n",
    "        if self.keep_states:\n",
    "            self.states = [ np.copy(self.currentState) ]\n",
    "\n",
    "    def step(self):\n",
    "        if self.verbose:\n",
    "            print(\"STEP\")\n",
    "            print(self.currentState, self.currentDist)\n",
    "        pos = rnd.choice(self.L)\n",
    "        weights = np.ones(self.A)\n",
    "        for a in range(self.A):\n",
    "            for pos_i in range(self.L):\n",
    "                if pos_i == pos:\n",
    "                    weights[a] *= self.PP[pos, pos_i, a, self.currentState[pos_i]]\n",
    "                else:\n",
    "                    weights[a] *= self.PP[pos, pos_i, a, self.currentState[pos_i]]\n",
    "            weights[a] = weights[a]**DELTA\n",
    "        if self.verbose:\n",
    "            print(\"weights = \", weights)\n",
    "        new_a = rnd.choice(self.A, p=weights/sum(weights))\n",
    "        if self.verbose:\n",
    "            print(\"pos = \", pos, \" new_a = \", new_a)\n",
    "        if new_a == self.currentState[pos] or (self.currentState[pos] != self.s[ self.initSeq,  pos] and new_a != self.s[ self.initSeq,  pos]):\n",
    "            newDist = self.currentDist\n",
    "        elif new_a == self.s[ self.initSeq, pos ]:\n",
    "            newDist = self.currentDist - 1\n",
    "        else:\n",
    "            newDist = self.currentDist + 1\n",
    "        p = self.H[self.currentDist]/self.H[newDist]\n",
    "        if p >= 1. or rnd.choice(2, p=[1.-p, p]) == 1:\n",
    "            self.currentState[pos] = new_a\n",
    "            self.currentDist = newDist\n",
    "        self.H[self.currentDist] += 1\n",
    "        if self.keep_states:\n",
    "            self.states.append( np.copy(self.currentState) )\n",
    "        \n",
    "    def run(self, iterations):\n",
    "        for i in range(iterations):\n",
    "            self.step()\n",
    "            \n",
    "dca = DCA(freq, seqs, keep_states=True, verbose = False)\n",
    "dca.run(100)\n",
    "\n",
    "print(dca.H)\n",
    "\n",
    "plt.plot(dca.H/sum(dca.H))"
   ]
  },
  {
   "cell_type": "code",
   "execution_count": 75,
   "id": "6bfd271b",
   "metadata": {},
   "outputs": [
    {
     "data": {
      "text/plain": [
       "array([4, 0, 3, 0, 3, 1, 1, 1, 1, 2, 1, 3, 4, 2, 0, 4, 2, 1, 3, 4, 4, 1,\n",
       "       1, 1, 0, 3, 4, 1, 3, 4, 2, 0, 3, 1, 3, 0, 2, 1, 0, 4, 2, 0, 0, 3,\n",
       "       4, 3, 0, 4, 0, 2, 1, 3, 4, 3, 0, 0, 4, 2, 1, 2, 4, 0, 4, 3, 1, 3,\n",
       "       3, 0, 1, 0, 2, 3, 1, 4, 1, 0, 3, 1, 3, 4, 0, 2, 2, 1, 2, 2, 4, 2,\n",
       "       4, 1, 4, 3, 3, 0, 2, 3, 4, 4, 0, 4])"
      ]
     },
     "execution_count": 75,
     "metadata": {},
     "output_type": "execute_result"
    }
   ],
   "source": [
    "import numpy.random as rnd\n",
    "rnd.choice(5, size= 100)"
   ]
  },
  {
   "cell_type": "code",
   "execution_count": 17,
   "id": "48fde592",
   "metadata": {},
   "outputs": [
    {
     "name": "stdout",
     "output_type": "stream",
     "text": [
      "[[[[0.   0.  ]\n",
      "   [0.   0.  ]]\n",
      "\n",
      "  [[0.1  0.9 ]\n",
      "   [0.8  0.2 ]]\n",
      "\n",
      "  [[0.3  0.7 ]\n",
      "   [0.4  0.6 ]]]\n",
      "\n",
      "\n",
      " [[[0.1  0.9 ]\n",
      "   [0.8  0.2 ]]\n",
      "\n",
      "  [[0.   0.  ]\n",
      "   [0.   0.  ]]\n",
      "\n",
      "  [[0.15 0.85]\n",
      "   [0.45 0.55]]]\n",
      "\n",
      "\n",
      " [[[0.3  0.7 ]\n",
      "   [0.4  0.6 ]]\n",
      "\n",
      "  [[0.15 0.85]\n",
      "   [0.45 0.55]]\n",
      "\n",
      "  [[0.   0.  ]\n",
      "   [0.   0.  ]]]]\n"
     ]
    }
   ],
   "source": [
    "print(freq)"
   ]
  },
  {
   "cell_type": "code",
   "execution_count": 35,
   "id": "214f40e8",
   "metadata": {},
   "outputs": [
    {
     "ename": "TypeError",
     "evalue": "'float' object cannot be interpreted as an integer",
     "output_type": "error",
     "traceback": [
      "\u001b[0;31m---------------------------------------------------------------------------\u001b[0m",
      "\u001b[0;31mTypeError\u001b[0m                                 Traceback (most recent call last)",
      "Input \u001b[0;32mIn [35]\u001b[0m, in \u001b[0;36m<cell line: 1>\u001b[0;34m()\u001b[0m\n\u001b[0;32m----> 1\u001b[0m \u001b[43mrnd\u001b[49m\u001b[38;5;241;43m.\u001b[39;49m\u001b[43mchoice\u001b[49m\u001b[43m(\u001b[49m\u001b[38;5;241;43m1\u001b[39;49m\u001b[43m,\u001b[49m\u001b[43m \u001b[49m\u001b[43m[\u001b[49m\u001b[38;5;241;43m1.\u001b[39;49m\u001b[38;5;241;43m-\u001b[39;49m\u001b[38;5;241;43m0.1\u001b[39;49m\u001b[43m,\u001b[49m\u001b[43m \u001b[49m\u001b[38;5;241;43m0.1\u001b[39;49m\u001b[43m]\u001b[49m\u001b[43m)\u001b[49m\n",
      "File \u001b[0;32mmtrand.pyx:962\u001b[0m, in \u001b[0;36mnumpy.random.mtrand.RandomState.choice\u001b[0;34m()\u001b[0m\n",
      "File \u001b[0;32mmtrand.pyx:748\u001b[0m, in \u001b[0;36mnumpy.random.mtrand.RandomState.randint\u001b[0;34m()\u001b[0m\n",
      "File \u001b[0;32m_bounded_integers.pyx:1256\u001b[0m, in \u001b[0;36mnumpy.random._bounded_integers._rand_int64\u001b[0;34m()\u001b[0m\n",
      "\u001b[0;31mTypeError\u001b[0m: 'float' object cannot be interpreted as an integer"
     ]
    }
   ],
   "source": [
    "rnd.choice(1, [1.-0.1, 0.1])"
   ]
  },
  {
   "cell_type": "code",
   "execution_count": 25,
   "id": "4ff66f82",
   "metadata": {},
   "outputs": [
    {
     "data": {
      "text/plain": [
       "(3, 3, 2, 2)"
      ]
     },
     "execution_count": 25,
     "metadata": {},
     "output_type": "execute_result"
    }
   ],
   "source": [
    "freq.shape"
   ]
  },
  {
   "cell_type": "code",
   "execution_count": 122,
   "id": "82723461",
   "metadata": {},
   "outputs": [
    {
     "data": {
      "text/plain": [
       "[<matplotlib.lines.Line2D at 0x7faa287a8bb0>]"
      ]
     },
     "execution_count": 122,
     "metadata": {},
     "output_type": "execute_result"
    },
    {
     "data": {
      "image/png": "[encoded data removed]",
      "text/plain": [
       "<Figure size 432x288 with 1 Axes>"
      ]
     },
     "metadata": {
      "needs_background": "light"
     },
     "output_type": "display_data"
    }
   ],
   "source": [
    "def hamming(s1, s2):\n",
    "    d = 0\n",
    "    for i in range(len(s1)):\n",
    "        if s1[i] != s2[i]:\n",
    "            d += 1\n",
    "    return d\n",
    "\n",
    "fn=\"sars2_rbd.stat/RBDs_aa_aligned_v3.fasta\"\n",
    "seqs = []\n",
    "with open(fn) as f:\n",
    "    for l in f:\n",
    "        l = l.rstrip()\n",
    "        if l[0] == \">\":\n",
    "            name = l[1:]\n",
    "            s = \"\"\n",
    "        elif len(l) > 30:\n",
    "            s = s+l\n",
    "        else:\n",
    "            s = s+l\n",
    "            seqs.append([name, s])\n",
    "seqs = np.array(seqs)\n",
    "L = len(seqs[0,1])\n",
    "sid = 0\n",
    "G = np.zeros(L, dtype = \"int\")\n",
    "\n",
    "for i in range(len(seqs)):\n",
    "    if i == sid:\n",
    "        continue\n",
    "    n = hamming(seqs[sid, 1], seqs[i, 1])\n",
    "    G[n] += 1\n",
    "    \n",
    "plt.plot(G)\n",
    "    "
   ]
  },
  {
   "cell_type": "code",
   "execution_count": 190,
   "id": "3746d80d",
   "metadata": {},
   "outputs": [
    {
     "name": "stdout",
     "output_type": "stream",
     "text": [
      "seq len =  203\n"
     ]
    }
   ],
   "source": [
    "fn=\"sars2_rbd.stat/RBDs_aa_aligned_v3/RBDs_aa_aligned_v3.fij_ab\"\n",
    "\n",
    "ALPHABET_SIZE = 21\n",
    "\n",
    "freq = np.zeros((L,L,ALPHABET_SIZE,ALPHABET_SIZE))\n",
    "\n",
    "print(\"seq len = \", L)\n",
    "\n",
    "with open(fn) as f:\n",
    "    for l in f:\n",
    "        if l[0:4]==\"site\":\n",
    "            l = l.rstrip()\n",
    "            l = l.split(\"\\t\")\n",
    "            continue\n",
    "        l = l.rstrip()\n",
    "        if l == '':\n",
    "            continue\n",
    "        lll = l.split(\"\\t\")\n",
    "        site1, site2 = int(lll[0])-1, int(lll[1])-1\n",
    "        fr = np.array( [float(x) for x in lll[2:2+ALPHABET_SIZE*ALPHABET_SIZE]] )\n",
    "        fr = np.reshape(fr, (ALPHABET_SIZE,ALPHABET_SIZE) )\n",
    "\n",
    "            \n",
    "        freq[site1, site2, ] = fr\n",
    "        freq[site2, site1, ] = fr\n"
   ]
  },
  {
   "cell_type": "code",
   "execution_count": 191,
   "id": "ba98df32",
   "metadata": {},
   "outputs": [
    {
     "name": "stdout",
     "output_type": "stream",
     "text": [
      "seq len =  203\n"
     ]
    }
   ],
   "source": [
    "fn=\"sars2_rbd.stat/RBDs_aa_aligned_v3/RBDs_aa_aligned_v3.fi_a\"\n",
    "\n",
    "ALPHABET_SIZE = 21\n",
    "\n",
    "print(\"seq len = \", L)\n",
    "\n",
    "with open(fn) as f:\n",
    "    for l in f:\n",
    "        if l[0:4]==\"site\":\n",
    "            continue\n",
    "        l = l.rstrip()\n",
    "        if l == '':\n",
    "            continue\n",
    "        lll = l.split(\"\\t\")\n",
    "        site1 = int(lll[0])-1\n",
    "        fr = np.array( [float(x) for x in lll[1:1+ALPHABET_SIZE]] )\n",
    "        for i in range(ALPHABET_SIZE):\n",
    "            freq[site1, site1, i, i] = fr[i]"
   ]
  },
  {
   "cell_type": "code",
   "execution_count": 192,
   "id": "c8d51fa7",
   "metadata": {},
   "outputs": [
    {
     "data": {
      "text/plain": [
       "0.999816"
      ]
     },
     "execution_count": 192,
     "metadata": {},
     "output_type": "execute_result"
    }
   ],
   "source": [
    "sum(sum(freq[202,201]))"
   ]
  },
  {
   "cell_type": "code",
   "execution_count": null,
   "id": "16d3ca56",
   "metadata": {},
   "outputs": [],
   "source": []
  }
 ],
 "metadata": {
  "kernelspec": {
   "display_name": "Python 3 (ipykernel)",
   "language": "python",
   "name": "python3"
  },
  "language_info": {
   "codemirror_mode": {
    "name": "ipython",
    "version": 3
   },
   "file_extension": ".py",
   "mimetype": "text/x-python",
   "name": "python",
   "nbconvert_exporter": "python",
   "pygments_lexer": "ipython3",
   "version": "3.9.5"
  }
 },
 "nbformat": 4,
 "nbformat_minor": 5
}
